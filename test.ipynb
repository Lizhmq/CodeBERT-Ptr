{
 "metadata": {
  "language_info": {
   "codemirror_mode": {
    "name": "ipython",
    "version": 3
   },
   "file_extension": ".py",
   "mimetype": "text/x-python",
   "name": "python",
   "nbconvert_exporter": "python",
   "pygments_lexer": "ipython3",
   "version": "3.7.7-final"
  },
  "orig_nbformat": 2,
  "kernelspec": {
   "name": "python3",
   "display_name": "Python 3.7.7 64-bit ('py37': conda)",
   "metadata": {
    "interpreter": {
     "hash": "628363986120f8dc964d79c6d3326a61b13597d9b8b585345c68f675f700b0d2"
    }
   }
  }
 },
 "nbformat": 4,
 "nbformat_minor": 2,
 "cells": [
  {
   "cell_type": "code",
   "execution_count": 1,
   "metadata": {},
   "outputs": [],
   "source": [
    "import os\n",
    "import torch\n",
    "import numpy as np\n",
    "import pickle\n",
    "from sklearn.metrics import precision_recall_fscore_support\n",
    "from codebert import codebert\n",
    "from tqdm import tqdm"
   ]
  },
  {
   "cell_type": "code",
   "execution_count": 2,
   "metadata": {},
   "outputs": [],
   "source": [
    "device = torch.device(\"cuda\", 1)"
   ]
  },
  {
   "cell_type": "code",
   "execution_count": 3,
   "metadata": {},
   "outputs": [],
   "source": [
    "inputs = torch.tensor([[3,2,1],[3,3,3]]).to(device)"
   ]
  },
  {
   "cell_type": "code",
   "execution_count": 53,
   "metadata": {},
   "outputs": [],
   "source": [
    "# path = \"./save/varmis/checkpoint-52000-1.0726/model.bin\"\n",
    "# orig_model = torch.load(path)\n",
    "# torch.save(orig_model.state_dict(), \"tmp.bin\")\n",
    "# del orig_model\n",
    "model = codebert(\"../.code-bert-cache/codebert-base\", device)\n",
    "model.load_state_dict(torch.load(\"tmp.bin\"))\n",
    "model = model.to(device)"
   ]
  },
  {
   "cell_type": "code",
   "execution_count": 18,
   "metadata": {},
   "outputs": [
    {
     "output_type": "execute_result",
     "data": {
      "text/plain": [
       "tensor([[-4.8619e-01, -9.5442e-01, -1.0000e+10],\n",
       "        [-1.0048e-02, -7.4618e+00, -4.6646e+00]], device='cuda:1',\n",
       "       grad_fn=<LogSoftmaxBackward>)"
      ]
     },
     "metadata": {},
     "execution_count": 18
    }
   ],
   "source": [
    "model._run_batch(inputs)"
   ]
  },
  {
   "cell_type": "code",
   "execution_count": 61,
   "metadata": {},
   "outputs": [
    {
     "output_type": "execute_result",
     "data": {
      "text/plain": [
       "160"
      ]
     },
     "metadata": {},
     "execution_count": 61
    }
   ],
   "source": [
    "len(all_pred)"
   ]
  },
  {
   "cell_type": "code",
   "execution_count": null,
   "metadata": {},
   "outputs": [],
   "source": []
  },
  {
   "cell_type": "code",
   "execution_count": null,
   "metadata": {},
   "outputs": [],
   "source": []
  },
  {
   "cell_type": "code",
   "execution_count": null,
   "metadata": {},
   "outputs": [],
   "source": []
  },
  {
   "cell_type": "code",
   "execution_count": null,
   "metadata": {},
   "outputs": [],
   "source": []
  },
  {
   "cell_type": "code",
   "execution_count": null,
   "metadata": {},
   "outputs": [],
   "source": []
  },
  {
   "cell_type": "code",
   "execution_count": null,
   "metadata": {},
   "outputs": [],
   "source": []
  },
  {
   "cell_type": "code",
   "execution_count": null,
   "metadata": {},
   "outputs": [],
   "source": []
  },
  {
   "cell_type": "code",
   "execution_count": null,
   "metadata": {},
   "outputs": [],
   "source": []
  },
  {
   "cell_type": "code",
   "execution_count": null,
   "metadata": {},
   "outputs": [],
   "source": []
  },
  {
   "cell_type": "code",
   "execution_count": 90,
   "metadata": {},
   "outputs": [],
   "source": [
    "import argparse\n",
    "import glob\n",
    "import logging\n",
    "import os\n",
    "import pickle\n",
    "import random\n",
    "import re\n",
    "import gc\n",
    "import shutil\n",
    "import json\n",
    "\n",
    "from utils import get_start_idxs_batched\n",
    "import numpy as np\n",
    "import torch\n",
    "from torch.utils.data import DataLoader, Dataset, SequentialSampler, RandomSampler,TensorDataset\n",
    "from torch.utils.data.distributed import DistributedSampler"
   ]
  },
  {
   "cell_type": "code",
   "execution_count": 91,
   "metadata": {},
   "outputs": [],
   "source": [
    "path = \"../great/valid.pkl\""
   ]
  },
  {
   "cell_type": "code",
   "execution_count": 93,
   "metadata": {},
   "outputs": [],
   "source": [
    "with open(path, \"rb\") as f:\n",
    "    data = pickle.load(f)"
   ]
  },
  {
   "cell_type": "code",
   "execution_count": 95,
   "metadata": {},
   "outputs": [],
   "source": [
    "labels = data[\"label\"]\n",
    "inputs = data[\"norm\"]\n",
    "idxs = data[\"error\"]"
   ]
  },
  {
   "cell_type": "code",
   "execution_count": 98,
   "metadata": {},
   "outputs": [],
   "source": [
    "tokenizer = Tokenizer.from_pretrained(\"../.code-bert-cache/codebert-base\")"
   ]
  },
  {
   "cell_type": "code",
   "execution_count": 125,
   "metadata": {},
   "outputs": [],
   "source": [
    "from utils import get_start_idxs_batched"
   ]
  },
  {
   "cell_type": "code",
   "execution_count": 131,
   "metadata": {},
   "outputs": [
    {
     "output_type": "execute_result",
     "data": {
      "text/plain": [
       "'def __init__( self , IP_MULTICAST_IF = None , IP_MULTICAST_IF2 = None , IP_MULTICAST_LOOP = None , IP_TOS = None , SO_BROADCAST = None , SO_CONDITIONAL_ACCEPT = None , SO_KEEPALIVE = None , SO_DONTROUTE = None , SO_LINGER = None , SO_DONTLINGER = None , SO_OOBINLINE = None , SO_RCVBUF = None , SO_GROUP_PRIORITY = None , SO_REUSEADDR = None , SO_DEBUG = None , SO_RCVTIMEO = None , SO_SNDBUF = None , SO_SNDTIMEO = None , SO_UPDATE_ACCEPT_CONTEXT = None , SO_TIMEOUT = None , TCP_NODELAY = None ) : self . IP_MULTICAST_IF = IP_MULTICAST_IF self . IP_MULTICAST_IF2 = IP_MULTICAST_IF2 self . IP_MULTICAST_LOOP = IP_MULTICAST_LOOP self . IP_TOS = IP_TOS self . SO_BROADCAST = SO_BROADCAST self . SO_CONDITIONAL_ACCEPT = SO_CONDITIONAL_ACCEPT self . SO_KEEPALIVE = SO_KEEPALIVE self . SO_DONTROUTE = SO_DONTROUTE self . SO_LINGER = SO_LINGER self . SO_DONTLINGER = SO_DONTLINGER self . SO_OOBINLINE = SO_OOBINLINE self . SO_RCVBUF = SO_RCVBUF self . SO_GROUP_PRIORITY = SO_GROUP_PRIORITY self . SO_REUSEADDR = SO_REUSEADDR self . SO_DEBUG = SO_DEBUG self . SO_RCVTIMEO = SO_RCVTIMEO self . SO_SNDBUF = SO_SNDBUF self . SO_SNDTIMEO = SO_SNDTIMEO self . SO_UPDATE_ACCEPT_CONTEXT = SO_UPDATE_ACCEPT_CONTEXT self . SO_TIMEOUT = SO_DONTLINGER self . TCP_NODELAY = TCP_NODELAY'"
      ]
     },
     "metadata": {},
     "execution_count": 131
    }
   ],
   "source": [
    "\" \".join(a)"
   ]
  }
 ]
}